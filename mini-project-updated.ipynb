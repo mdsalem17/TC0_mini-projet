{
 "cells": [
  {
   "cell_type": "markdown",
   "metadata": {},
   "source": [
    "# Mini-project\n",
    "\n"
   ]
  },
  {
   "cell_type": "markdown",
   "metadata": {},
   "source": [
    "## General guidelines\n",
    "\n",
    "We want to make a typical study of a ML problem.\n",
    "\n",
    "We're going to use Fashion-MNIST (\"*fashion-mnist-reshaped.npz*\")  as data set, attempting to classify the pictures correctly.\n",
    "\n",
    "There are 2 parts in the project:\n",
    "- use `DecisionTreeClassifier` and PCA from sklearn to classify the data\n",
    "- make your own multi-class classifier, deriving its updates from scratch\n",
    "The first part weights more in the total grade than the second one.\n",
    "\n",
    "In the first part, the goal is to showcase a typical hyper-parameter tuning. We will simulate the fact of having different tasks by restricting ourselves to different dataset size, and comment on how hyper-parameters choice can depend a lot on how much data we have at hand.\n",
    "\n",
    "General advice: **write clean code**, well factored in functions/classes, for each question, as much as possible.\n",
    "This will make your code **easier to read and also easier to run!**. You may re-use code in several questions. If it's  well factored, it will be easier to code the next questions.\n",
    "\n",
    "Tips: you may want to use \n",
    "- `sklearn.tree.DecisionTreeClassifier`\n",
    "- `sklearn.model_selection.train_test_split`\n",
    "- `sklearn.decomposition.PCA`\n",
    "- `sklearn.model_selection.cross_validate` \n",
    "\n",
    "to lighten your code."
   ]
  },
  {
   "cell_type": "markdown",
   "metadata": {},
   "source": [
    "## Part 1: using `sklearn.tree.DecisionTreeClassifier`\n",
    "\n",
    "## (about 15 points over 20 total)\n",
    "\n",
    "Decision Trees are powerful methods, however they can easily overfit. The number of parameters in the model essenitially grows like $\\sim O(2^{maxDepth})$, i.e. exponentially with the depth of the tree.\n",
    "\n",
    "### Part 1.1: `Ntrain+Nval=1000, Nvalid=1000, Ntest=10000`\n",
    "\n",
    "In this part we use this amount of data.\n",
    "- import the data, split the \"train+validation\" sets. Keep the test set for the **very** end.\n",
    "- attempt direct classification using a `sklearn.tree.DecisionTreeClassifier`. Optimize the hyper-parameter `max_depth`. Measure and store the validation accuracy for the best choice of `max_depth`.\n",
    "Do you fear you may be overfitting ? Explain your answer.\n",
    "- Now, let's add some PCA as pre-processing. \n",
    "    - Using `max_depth=5`, what is the best number of PCA components (nComp_PCA) to keep ? Hint: you may use something like `nComp_range = np.array(list(np.arange(1,50))+[50,100,200,400,783,784])` as the range of nComp_PCA values to be explored.\n",
    "    - Using `max_depth=12`, what is the best number of PCA components (nComp_PCA) to keep ?\n",
    "    - Can you explain why this optimal number changes with depth ? \n",
    "- Find the best (max_depth, nComp_PCA) pair. \n",
    "- Can you explain the behavior of the optimal `max_depth`, let's call it $m*$, with `nComp_PCA`, at **small** `nComp_PCA` ?\n",
    "- Can you explain the behavior of the optimal `max_depth`, let's call it $m*$, with `nComp_PCA`, at **large** `nComp_PCA` ?\n",
    "- Measure the cross-validation error for this best pair. Are you surprised with the result?"
   ]
  },
  {
   "cell_type": "code",
   "execution_count": 1,
   "metadata": {},
   "outputs": [],
   "source": [
    "import numpy as np\n",
    "import matplotlib.pyplot as plt\n",
    "\n",
    "import os\n",
    "\n",
    "import sklearn\n",
    "import sklearn.model_selection\n",
    "import sklearn.tree\n",
    "import sklearn.decomposition\n",
    "\n",
    "import pandas as pd\n",
    "import seaborn as sns\n",
    "\n",
    "from IPython.display import display"
   ]
  },
  {
   "cell_type": "code",
   "execution_count": 2,
   "metadata": {},
   "outputs": [],
   "source": [
    "# LoadObject = np.load(\"../../data/fashion-mnist-reshaped.npz\") # please put your data over there so it's easy for me to run your code\n",
    "LoadObject = np.load(\"tools-data/fashion-mnist-reshaped.npz\")\n",
    "\n",
    "linearPictureLength = 28\n",
    "X = LoadObject['train_images']\n",
    "y = LoadObject['train_labels']\n",
    "## we do not use the TEST SET for now:\n",
    "# Xtest = LoadObject['test_images']\n",
    "# ytest = LoadObject['test_labels']"
   ]
  },
  {
   "cell_type": "code",
   "execution_count": 3,
   "metadata": {},
   "outputs": [
    {
     "name": "stdout",
     "output_type": "stream",
     "text": [
      "(60000, 784) (60000,)\n"
     ]
    }
   ],
   "source": [
    "print(X.shape, y.shape)"
   ]
  },
  {
   "cell_type": "code",
   "execution_count": 6,
   "metadata": {},
   "outputs": [],
   "source": [
    "def sample_split(xdata, ydata, size=1000, valid_size=0.5):\n",
    "    idx = np.random.choice(range(len(xdata)), size=size, replace=False)\n",
    "    xsample = xdata[idx]\n",
    "    ysample = ydata[idx]\n",
    "    xtrain, xvalid, ytrain, yvalid = sklearn.model_selection.train_test_split(\n",
    "    xsample, ysample, test_size=valid_size, stratify=ysample)\n",
    "    \n",
    "    print(f\"Train x and y shape: {xtrain.shape} {ytrain.shape}\")\n",
    "    print(f\"Validation x and y shape: {xvalid.shape} {yvalid.shape}\")\n",
    "    \n",
    "    return xtrain, xvalid, ytrain, yvalid"
   ]
  },
  {
   "cell_type": "code",
   "execution_count": 8,
   "metadata": {},
   "outputs": [
    {
     "name": "stdout",
     "output_type": "stream",
     "text": [
      "Train x and y shape: (1000, 784) (1000,)\n",
      "Validation x and y shape: (1000, 784) (1000,)\n"
     ]
    }
   ],
   "source": [
    "x11_train, x11_valid, y11_train, y11_valid = sample_split(X, y, size=2000, valid_size=0.5)"
   ]
  },
  {
   "cell_type": "code",
   "execution_count": 9,
   "metadata": {},
   "outputs": [],
   "source": [
    "def get_classifier(max_depth=5):\n",
    "    return sklearn.tree.DecisionTreeClassifier(max_depth=max_depth)\n",
    "\n",
    "def fit_score(xtrain, ytrain, xvalid, yvalid, max_depths):\n",
    "    train_scores=[]; valid_scores=[]\n",
    "    for max_depth in max_depths:\n",
    "        clf = get_classifier(max_depth)\n",
    "        clf.fit(xtrain, ytrain)\n",
    "        train_scores.append(clf.score(xtrain, ytrain))\n",
    "        valid_scores.append(clf.score(xvalid, yvalid))\n",
    "    \n",
    "    return train_scores, valid_scores\n"
   ]
  },
  {
   "cell_type": "code",
   "execution_count": 10,
   "metadata": {},
   "outputs": [],
   "source": [
    "max_depths11 = np.arange(start=3, stop=30, step=1)\n",
    "train_scores11, valid_scores11 = fit_score(x11_train, y11_train, x11_valid, y11_valid, max_depths11)"
   ]
  },
  {
   "cell_type": "code",
   "execution_count": 11,
   "metadata": {},
   "outputs": [],
   "source": [
    "def plot_hyperparams_scores(hyperparam_name, hyperparams, train_scores, valid_scores):\n",
    "    plt.plot(hyperparams, train_scores, label=\"train\")\n",
    "    plt.plot(hyperparams, valid_scores, label=\"valid\")\n",
    "    plt.xlabel(hyperparam_name)\n",
    "    plt.ylabel(\"accuracy\")\n",
    "    plt.legend()"
   ]
  },
  {
   "cell_type": "code",
   "execution_count": 12,
   "metadata": {},
   "outputs": [
    {
     "data": {
      "image/png": "[encoded data removed]",
      "text/plain": [
       "<Figure size 432x288 with 1 Axes>"
      ]
     },
     "metadata": {
      "needs_background": "light"
     },
     "output_type": "display_data"
    }
   ],
   "source": [
    "plot_hyperparams_scores(\"max depth\", max_depths11, train_scores11, valid_scores11)"
   ]
  },
  {
   "cell_type": "code",
   "execution_count": 13,
   "metadata": {},
   "outputs": [],
   "source": [
    "def get_best_hyperparam(hyperparams, train_scores, valid_scores):\n",
    "    best_idx = np.argmax(valid_scores)\n",
    "    print(f\"Best hyperparameter value: {hyperparams[best_idx]}\")\n",
    "    print(f\"Train accuracy: {train_scores[best_idx]}\")\n",
    "    print(f\"Validation accuracy: {valid_scores[best_idx]}\")\n",
    "    \n",
    "    return hyperparams[best_idx]"
   ]
  },
  {
   "cell_type": "code",
   "execution_count": 14,
   "metadata": {},
   "outputs": [
    {
     "name": "stdout",
     "output_type": "stream",
     "text": [
      "Max depth\n",
      "Best hyperparameter value: 8\n",
      "Train accuracy: 0.927\n",
      "Validation accuracy: 0.694\n"
     ]
    }
   ],
   "source": [
    "print(\"Max depth\")\n",
    "best_max_depth11 = get_best_hyperparam(max_depths11, train_scores11, valid_scores11)"
   ]
  },
  {
   "cell_type": "markdown",
   "metadata": {},
   "source": [
    "Starting from max_depth = 5, the gap between train and validation accuracy grows remarkably.  \n",
    "At max_depth = 10, train accuracy is almost 1. Validation accuracy almost remains the same.\n",
    "This is a sign of severe overfitting."
   ]
  },
  {
   "cell_type": "code",
   "execution_count": 15,
   "metadata": {},
   "outputs": [],
   "source": [
    "pca_model11 = sklearn.decomposition.PCA()\n",
    "x11pca_train = pca_model11.fit_transform(x11_train)\n",
    "\n",
    "pca2_model11 = sklearn.decomposition.PCA(n_components=2)\n",
    "x11pca2_train = pca2_model11.fit_transform(x11_train)"
   ]
  },
  {
   "cell_type": "code",
   "execution_count": 16,
   "metadata": {},
   "outputs": [
    {
     "name": "stdout",
     "output_type": "stream",
     "text": [
      "[[  -10.02905512   -51.09281164  -716.08780298    81.99995063]\n",
      " [   18.20018748  -768.41952915  -186.53042555    -7.69832502]\n",
      " [ 1890.03175986   283.1802464   -194.49524295  -107.51922744]\n",
      " [  862.62497621  -647.14827842   460.64645505  -328.7931091 ]\n",
      " [-1479.81266079   113.27228259  -278.56598529  1228.97308822]]\n",
      "[[  -10.02905512   -51.09281163]\n",
      " [   18.20018748  -768.41952909]\n",
      " [ 1890.03175986   283.18024634]\n",
      " [  862.62497621  -647.14827833]\n",
      " [-1479.81266079   113.27228262]]\n",
      "True\n"
     ]
    }
   ],
   "source": [
    "print(x11pca_train[10:15,:4])\n",
    "print(x11pca2_train[10:15,:])\n",
    "\n",
    "print(np.allclose(x11pca_train[:, 1], x11pca2_train[:, 1], ))"
   ]
  },
  {
   "cell_type": "code",
   "execution_count": 17,
   "metadata": {},
   "outputs": [],
   "source": [
    "def pca_fit_score(xtrain, ytrain, xvalid, yvalid, n_components, max_depth=5):\n",
    "    pca_model = sklearn.decomposition.PCA()\n",
    "    xpca_train = pca_model.fit_transform(xtrain)\n",
    "    xpca_valid = pca_model.transform(xvalid)\n",
    "    \n",
    "    train_scores=[]; valid_scores=[]\n",
    "    \n",
    "    for n_component in n_components:\n",
    "        reduced_xtrain = xpca_train[:, :n_component]\n",
    "        reduced_xvalid = xpca_valid[:, :n_component]\n",
    "        \n",
    "        clf = get_classifier(max_depth=max_depth)\n",
    "        clf.fit(reduced_xtrain, ytrain)\n",
    "        \n",
    "        train_scores.append(clf.score(reduced_xtrain, ytrain))\n",
    "        valid_scores.append(clf.score(reduced_xvalid, yvalid))\n",
    "    \n",
    "    return train_scores, valid_scores\n"
   ]
  },
  {
   "cell_type": "code",
   "execution_count": 18,
   "metadata": {},
   "outputs": [],
   "source": [
    "n_components11 = np.concatenate((np.arange(start=1, stop=50, step=1), np.arange(start=50, stop=785, step=100)))\n",
    "pca_train_scores11, pca_valid_scores11 = pca_fit_score(x11_train, y11_train, x11_valid, y11_valid, n_components11)"
   ]
  },
  {
   "cell_type": "code",
   "execution_count": 19,
   "metadata": {},
   "outputs": [
    {
     "data": {
      "image/png": "[encoded data removed]",
      "text/plain": [
       "<Figure size 1152x288 with 1 Axes>"
      ]
     },
     "metadata": {
      "needs_background": "light"
     },
     "output_type": "display_data"
    }
   ],
   "source": [
    "plt.figure(figsize=(16, 4))\n",
    "plot_hyperparams_scores(\"n_components\", n_components11, pca_train_scores11, pca_valid_scores11)"
   ]
  },
  {
   "cell_type": "code",
   "execution_count": 20,
   "metadata": {},
   "outputs": [
    {
     "name": "stdout",
     "output_type": "stream",
     "text": [
      "n_components\n",
      "Best hyperparameter value: 10\n",
      "Train accuracy: 0.61\n",
      "Validation accuracy: 0.565\n"
     ]
    }
   ],
   "source": [
    "print(\"n_components\")\n",
    "best_ncomponents11 = get_best_hyperparam(n_components11, pca_train_scores11, pca_valid_scores11)"
   ]
  },
  {
   "cell_type": "code",
   "execution_count": 21,
   "metadata": {},
   "outputs": [],
   "source": [
    "pca_train_scores112, pca_valid_scores112 = pca_fit_score(\n",
    "    x11_train, y11_train, x11_valid, y11_valid, \n",
    "    n_components11, max_depth=12\n",
    ")"
   ]
  },
  {
   "cell_type": "code",
   "execution_count": 22,
   "metadata": {},
   "outputs": [
    {
     "data": {
      "image/png": "[encoded data removed]",
      "text/plain": [
       "<Figure size 1152x288 with 1 Axes>"
      ]
     },
     "metadata": {
      "needs_background": "light"
     },
     "output_type": "display_data"
    }
   ],
   "source": [
    "plt.figure(figsize=(16, 4))\n",
    "plot_hyperparams_scores(\"n_components\", n_components11, pca_train_scores112, pca_valid_scores112)"
   ]
  },
  {
   "cell_type": "code",
   "execution_count": 23,
   "metadata": {},
   "outputs": [
    {
     "name": "stdout",
     "output_type": "stream",
     "text": [
      "n_components\n",
      "Best hyperparameter value: 9\n",
      "Train accuracy: 0.9\n",
      "Validation accuracy: 0.694\n"
     ]
    }
   ],
   "source": [
    "print(\"n_components\")\n",
    "best_ncomponents112 = get_best_hyperparam(n_components11, pca_train_scores112, pca_valid_scores112)"
   ]
  },
  {
   "cell_type": "markdown",
   "metadata": {},
   "source": [
    "As max_depth increases, the decision tree model becomes more expressive.  \n",
    "Therefore, the number of components may also rises to match the complexity of the model.  \n",
    "There is sign of severe ovefitting with max_depth = 12. The gap between train and validation score is huge."
   ]
  },
  {
   "cell_type": "code",
   "execution_count": 24,
   "metadata": {},
   "outputs": [],
   "source": [
    "def build_result_df(result_df, train_scores, valid_scores, ncomponents, max_depth):\n",
    "    new_result = pd.DataFrame(dict(\n",
    "        train_scores=train_scores,\n",
    "        valid_scores=valid_scores,\n",
    "        ncomponents=ncomponents,\n",
    "    ))\n",
    "    new_result[\"max_depth\"] = max_depth\n",
    "    \n",
    "    return pd.concat((result_df, new_result))\n",
    "\n",
    "def get_search_result(xtrain, ytrain, xvalid, yvalid, search_max_depths, search_ncomponents):\n",
    "    result_df = pd.DataFrame()\n",
    "    \n",
    "    for search_max_depth in search_max_depths:\n",
    "        train_scores, valid_scores = pca_fit_score(xtrain, ytrain, xvalid, yvalid, \n",
    "        search_ncomponents, max_depth=search_max_depth)\n",
    "        result_df = build_result_df(result_df, train_scores, valid_scores, search_ncomponents, search_max_depth)\n",
    "    \n",
    "    return result_df.reset_index(drop=True)"
   ]
  },
  {
   "cell_type": "code",
   "execution_count": 25,
   "metadata": {},
   "outputs": [
    {
     "data": {
      "text/html": [
       "<div>\n",
       "<style scoped>\n",
       "    .dataframe tbody tr th:only-of-type {\n",
       "        vertical-align: middle;\n",
       "    }\n",
       "\n",
       "    .dataframe tbody tr th {\n",
       "        vertical-align: top;\n",
       "    }\n",
       "\n",
       "    .dataframe thead th {\n",
       "        text-align: right;\n",
       "    }\n",
       "</style>\n",
       "<table border=\"1\" class=\"dataframe\">\n",
       "  <thead>\n",
       "    <tr style=\"text-align: right;\">\n",
       "      <th></th>\n",
       "      <th>train_scores</th>\n",
       "      <th>valid_scores</th>\n",
       "      <th>ncomponents</th>\n",
       "      <th>max_depth</th>\n",
       "    </tr>\n",
       "  </thead>\n",
       "  <tbody>\n",
       "    <tr>\n",
       "      <th>0</th>\n",
       "      <td>0.195</td>\n",
       "      <td>0.197</td>\n",
       "      <td>1</td>\n",
       "      <td>1</td>\n",
       "    </tr>\n",
       "    <tr>\n",
       "      <th>1</th>\n",
       "      <td>0.210</td>\n",
       "      <td>0.203</td>\n",
       "      <td>6</td>\n",
       "      <td>1</td>\n",
       "    </tr>\n",
       "    <tr>\n",
       "      <th>2</th>\n",
       "      <td>0.210</td>\n",
       "      <td>0.203</td>\n",
       "      <td>11</td>\n",
       "      <td>1</td>\n",
       "    </tr>\n",
       "    <tr>\n",
       "      <th>3</th>\n",
       "      <td>0.210</td>\n",
       "      <td>0.203</td>\n",
       "      <td>16</td>\n",
       "      <td>1</td>\n",
       "    </tr>\n",
       "    <tr>\n",
       "      <th>4</th>\n",
       "      <td>0.210</td>\n",
       "      <td>0.203</td>\n",
       "      <td>21</td>\n",
       "      <td>1</td>\n",
       "    </tr>\n",
       "  </tbody>\n",
       "</table>\n",
       "</div>"
      ],
      "text/plain": [
       "   train_scores  valid_scores  ncomponents  max_depth\n",
       "0         0.195         0.197            1          1\n",
       "1         0.210         0.203            6          1\n",
       "2         0.210         0.203           11          1\n",
       "3         0.210         0.203           16          1\n",
       "4         0.210         0.203           21          1"
      ]
     },
     "metadata": {},
     "output_type": "display_data"
    }
   ],
   "source": [
    "search_max_depths11 = np.arange(1, 20, 2)\n",
    "search_ncomponents11 = np.arange(1, 80, 5)\n",
    "result11 = get_search_result(x11_train, y11_train, x11_valid, y11_valid, search_max_depths11, search_ncomponents11)\n",
    "\n",
    "display(result11.iloc[:5])"
   ]
  },
  {
   "cell_type": "code",
   "execution_count": 26,
   "metadata": {},
   "outputs": [],
   "source": [
    "def get_plot_valid_result(search_result):\n",
    "    valid_result = search_result.pivot(index=\"max_depth\", columns=\"ncomponents\", values=\"valid_scores\")\n",
    "    plt.figure(figsize=(16, 8))\n",
    "    sns.heatmap(valid_result, annot=True)\n",
    "    return valid_result"
   ]
  },
  {
   "cell_type": "code",
   "execution_count": 27,
   "metadata": {},
   "outputs": [
    {
     "data": {
      "image/png": "[encoded data removed]",
      "text/plain": [
       "<Figure size 1152x576 with 2 Axes>"
      ]
     },
     "metadata": {
      "needs_background": "light"
     },
     "output_type": "display_data"
    }
   ],
   "source": [
    "valid_result11 = get_plot_valid_result(result11)"
   ]
  },
  {
   "cell_type": "code",
   "execution_count": 28,
   "metadata": {},
   "outputs": [],
   "source": [
    "def get_best_result(search_result):\n",
    "    best_result = search_result.iloc[search_result[\"valid_scores\"].argmax()]\n",
    "    \n",
    "    print(\"Best validation result:\")\n",
    "    display(best_result)\n",
    "    \n",
    "    return best_result"
   ]
  },
  {
   "cell_type": "code",
   "execution_count": 29,
   "metadata": {},
   "outputs": [
    {
     "name": "stdout",
     "output_type": "stream",
     "text": [
      "Best validation result:\n"
     ]
    },
    {
     "data": {
      "text/plain": [
       "train_scores     0.891\n",
       "valid_scores     0.686\n",
       "ncomponents     16.000\n",
       "max_depth       11.000\n",
       "Name: 83, dtype: float64"
      ]
     },
     "metadata": {},
     "output_type": "display_data"
    }
   ],
   "source": [
    "best_result11 = get_best_result(result11)"
   ]
  },
  {
   "cell_type": "markdown",
   "metadata": {},
   "source": [
    "Train accuracy is 1 or almost, which is an obvious sign of extreme overfitting.\\\n",
    "For small # of components, the best max_depth seems to be in the low and middle range.\\\n",
    "For large # of components, the best max_depth appears to grow along with the # of dimensions.\\\n",
    "\\\n",
    "We can consider # of components to represent data size, and max depth to represent the model complexity.\\\n",
    "When # of components, or the amount of data is low, simpler model having smaller max depth will likely perform better.\\\n",
    "As # of components or quantity of data grows, the model complexity or max depth tends to rise as well.\n"
   ]
  },
  {
   "cell_type": "code",
   "execution_count": 30,
   "metadata": {},
   "outputs": [],
   "source": [
    "def cross_validate_best_result(best_result, xtrain, ytrain, xvalid, yvalid):\n",
    "    xcv = np.concatenate((xtrain, xvalid), axis=0)\n",
    "    ycv = np.concatenate((ytrain, yvalid), axis=0)\n",
    "    \n",
    "    pca_model = sklearn.decomposition.PCA(n_components=int(best_result[\"ncomponents\"]))\n",
    "    xpca_cv = pca_model.fit_transform(xcv)\n",
    "\n",
    "    clf = get_classifier(max_depth=int(best_result[\"max_depth\"]))\n",
    "    cv_result = sklearn.model_selection.cross_validate(clf, xpca_cv, ycv)\n",
    "    \n",
    "    print(\"Cross validation scores: \", cv_result[\"test_score\"])\n",
    "    print(\"Average score of cross validation: \", cv_result[\"test_score\"].mean())\n",
    "    \n",
    "    return cv_result"
   ]
  },
  {
   "cell_type": "code",
   "execution_count": 31,
   "metadata": {},
   "outputs": [
    {
     "name": "stdout",
     "output_type": "stream",
     "text": [
      "Cross validation scores:  [0.665  0.695  0.7025 0.66   0.6775]\n",
      "Average score of cross validation:  0.68\n"
     ]
    }
   ],
   "source": [
    "best_cv_result11 = cross_validate_best_result(best_result11, x11_train, y11_train, x11_valid, y11_valid)"
   ]
  },
  {
   "cell_type": "markdown",
   "metadata": {},
   "source": [
    "The cross validation score is lower than before.\\\n",
    "As expected, this model overfitted and generalizes poorly."
   ]
  },
  {
   "cell_type": "markdown",
   "metadata": {},
   "source": [
    "### Part 1.2: `Ntrain+Nval=2000, Nvalid=2000`\n",
    "\n",
    "If you factored your code decently in the last questions, this should be very easy/fast to do. Ideally, it should be a couple of lines and a single function call. (For the core computation, excluding plots and presentation)\n",
    "- split the \"train+validation\" sets. \n",
    "- Find the best (max_depth, nComp_PCA) pair. \n",
    "- Measure the cross-validation error for this best pair. Are you surprised with the result?\n"
   ]
  },
  {
   "cell_type": "code",
   "execution_count": 32,
   "metadata": {},
   "outputs": [
    {
     "name": "stdout",
     "output_type": "stream",
     "text": [
      "Train x and y shape: (2000, 784) (2000,)\n",
      "Validation x and y shape: (2000, 784) (2000,)\n"
     ]
    }
   ],
   "source": [
    "x12_train, x12_valid, y12_train, y12_valid = sample_split(X, y, size=4000, valid_size=0.5)"
   ]
  },
  {
   "cell_type": "code",
   "execution_count": 33,
   "metadata": {},
   "outputs": [
    {
     "data": {
      "text/html": [
       "<div>\n",
       "<style scoped>\n",
       "    .dataframe tbody tr th:only-of-type {\n",
       "        vertical-align: middle;\n",
       "    }\n",
       "\n",
       "    .dataframe tbody tr th {\n",
       "        vertical-align: top;\n",
       "    }\n",
       "\n",
       "    .dataframe thead th {\n",
       "        text-align: right;\n",
       "    }\n",
       "</style>\n",
       "<table border=\"1\" class=\"dataframe\">\n",
       "  <thead>\n",
       "    <tr style=\"text-align: right;\">\n",
       "      <th></th>\n",
       "      <th>train_scores</th>\n",
       "      <th>valid_scores</th>\n",
       "      <th>ncomponents</th>\n",
       "      <th>max_depth</th>\n",
       "    </tr>\n",
       "  </thead>\n",
       "  <tbody>\n",
       "    <tr>\n",
       "      <th>0</th>\n",
       "      <td>0.1910</td>\n",
       "      <td>0.189</td>\n",
       "      <td>1</td>\n",
       "      <td>1</td>\n",
       "    </tr>\n",
       "    <tr>\n",
       "      <th>1</th>\n",
       "      <td>0.2005</td>\n",
       "      <td>0.201</td>\n",
       "      <td>6</td>\n",
       "      <td>1</td>\n",
       "    </tr>\n",
       "    <tr>\n",
       "      <th>2</th>\n",
       "      <td>0.2005</td>\n",
       "      <td>0.201</td>\n",
       "      <td>11</td>\n",
       "      <td>1</td>\n",
       "    </tr>\n",
       "    <tr>\n",
       "      <th>3</th>\n",
       "      <td>0.2005</td>\n",
       "      <td>0.201</td>\n",
       "      <td>16</td>\n",
       "      <td>1</td>\n",
       "    </tr>\n",
       "    <tr>\n",
       "      <th>4</th>\n",
       "      <td>0.2005</td>\n",
       "      <td>0.201</td>\n",
       "      <td>21</td>\n",
       "      <td>1</td>\n",
       "    </tr>\n",
       "  </tbody>\n",
       "</table>\n",
       "</div>"
      ],
      "text/plain": [
       "   train_scores  valid_scores  ncomponents  max_depth\n",
       "0        0.1910         0.189            1          1\n",
       "1        0.2005         0.201            6          1\n",
       "2        0.2005         0.201           11          1\n",
       "3        0.2005         0.201           16          1\n",
       "4        0.2005         0.201           21          1"
      ]
     },
     "metadata": {},
     "output_type": "display_data"
    }
   ],
   "source": [
    "search_max_depths12 = np.arange(1, 20, 2)\n",
    "search_ncomponents12 = np.arange(1, 80, 5)\n",
    "result12 = get_search_result(x12_train, y12_train, x12_valid, y12_valid, search_max_depths12, search_ncomponents12)\n",
    "\n",
    "display(result12.iloc[:5])"
   ]
  },
  {
   "cell_type": "code",
   "execution_count": 34,
   "metadata": {},
   "outputs": [
    {
     "data": {
      "image/png": "[encoded data removed]",
      "text/plain": [
       "<Figure size 1152x576 with 2 Axes>"
      ]
     },
     "metadata": {
      "needs_background": "light"
     },
     "output_type": "display_data"
    }
   ],
   "source": [
    "valid_result12 = get_plot_valid_result(result12)"
   ]
  },
  {
   "cell_type": "code",
   "execution_count": 35,
   "metadata": {},
   "outputs": [
    {
     "name": "stdout",
     "output_type": "stream",
     "text": [
      "Best validation result:\n"
     ]
    },
    {
     "data": {
      "text/plain": [
       "train_scores     0.843\n",
       "valid_scores     0.721\n",
       "ncomponents     26.000\n",
       "max_depth        9.000\n",
       "Name: 69, dtype: float64"
      ]
     },
     "metadata": {},
     "output_type": "display_data"
    }
   ],
   "source": [
    "best_result12 = get_best_result(result12)"
   ]
  },
  {
   "cell_type": "code",
   "execution_count": 36,
   "metadata": {},
   "outputs": [
    {
     "name": "stdout",
     "output_type": "stream",
     "text": [
      "Cross validation scores:  [0.735   0.71    0.7225  0.71375 0.7225 ]\n",
      "Average score of cross validation:  0.72075\n"
     ]
    }
   ],
   "source": [
    "best_cv_result12 = cross_validate_best_result(best_result12, x12_train, y12_train, x12_valid, y12_valid)"
   ]
  },
  {
   "cell_type": "markdown",
   "metadata": {},
   "source": [
    "The disparity between train and validation accuracy shrinks slightly compared to section 1.1.\\\n",
    "Validation score improved a little.\\"
   ]
  },
  {
   "cell_type": "markdown",
   "metadata": {},
   "source": [
    "### Part 1.3: `Ntrain+Nval=20000, Nvalid=10000`\n",
    "\n",
    "If you factored your code decently in the last questions, this should be very easy/fast to do. Ideally, it should be a couple of lines and a single function call. (For the core computation, excluding plots and presentation)\n",
    "- split the \"train+validation\" sets.\n",
    "- Find the best (max_depth, nComp_PCA) pair. \n",
    "- Measure the cross-validation error for this best pair. Are you surprised with the result?\n",
    "\n",
    "**Hint: to save compute time, you can use a smaller hyper-parameter search space, i.e. you can reduce the umber of values explored in your hyper-optimization.**"
   ]
  },
  {
   "cell_type": "code",
   "execution_count": 38,
   "metadata": {},
   "outputs": [
    {
     "name": "stdout",
     "output_type": "stream",
     "text": [
      "Train x and y shape: (10000, 784) (10000,)\n",
      "Validation x and y shape: (10000, 784) (10000,)\n"
     ]
    }
   ],
   "source": [
    "x13_train, x13_valid, y13_train, y13_valid = sample_split(X, y, size=20000, valid_size=0.5)"
   ]
  },
  {
   "cell_type": "code",
   "execution_count": 39,
   "metadata": {},
   "outputs": [
    {
     "data": {
      "text/html": [
       "<div>\n",
       "<style scoped>\n",
       "    .dataframe tbody tr th:only-of-type {\n",
       "        vertical-align: middle;\n",
       "    }\n",
       "\n",
       "    .dataframe tbody tr th {\n",
       "        vertical-align: top;\n",
       "    }\n",
       "\n",
       "    .dataframe thead th {\n",
       "        text-align: right;\n",
       "    }\n",
       "</style>\n",
       "<table border=\"1\" class=\"dataframe\">\n",
       "  <thead>\n",
       "    <tr style=\"text-align: right;\">\n",
       "      <th></th>\n",
       "      <th>train_scores</th>\n",
       "      <th>valid_scores</th>\n",
       "      <th>ncomponents</th>\n",
       "      <th>max_depth</th>\n",
       "    </tr>\n",
       "  </thead>\n",
       "  <tbody>\n",
       "    <tr>\n",
       "      <th>0</th>\n",
       "      <td>0.1923</td>\n",
       "      <td>0.1935</td>\n",
       "      <td>1</td>\n",
       "      <td>1</td>\n",
       "    </tr>\n",
       "    <tr>\n",
       "      <th>1</th>\n",
       "      <td>0.1972</td>\n",
       "      <td>0.1975</td>\n",
       "      <td>11</td>\n",
       "      <td>1</td>\n",
       "    </tr>\n",
       "    <tr>\n",
       "      <th>2</th>\n",
       "      <td>0.1972</td>\n",
       "      <td>0.1975</td>\n",
       "      <td>21</td>\n",
       "      <td>1</td>\n",
       "    </tr>\n",
       "    <tr>\n",
       "      <th>3</th>\n",
       "      <td>0.1972</td>\n",
       "      <td>0.1975</td>\n",
       "      <td>31</td>\n",
       "      <td>1</td>\n",
       "    </tr>\n",
       "    <tr>\n",
       "      <th>4</th>\n",
       "      <td>0.1972</td>\n",
       "      <td>0.1975</td>\n",
       "      <td>41</td>\n",
       "      <td>1</td>\n",
       "    </tr>\n",
       "  </tbody>\n",
       "</table>\n",
       "</div>"
      ],
      "text/plain": [
       "   train_scores  valid_scores  ncomponents  max_depth\n",
       "0        0.1923        0.1935            1          1\n",
       "1        0.1972        0.1975           11          1\n",
       "2        0.1972        0.1975           21          1\n",
       "3        0.1972        0.1975           31          1\n",
       "4        0.1972        0.1975           41          1"
      ]
     },
     "metadata": {},
     "output_type": "display_data"
    }
   ],
   "source": [
    "search_max_depths13 = np.arange(1, 20, 5)\n",
    "search_ncomponents13 = np.arange(1, 100, 10)\n",
    "result13 = get_search_result(x13_train, y13_train, x13_valid, y13_valid, search_max_depths13, search_ncomponents13)\n",
    "\n",
    "display(result13.iloc[:5])"
   ]
  },
  {
   "cell_type": "code",
   "execution_count": 40,
   "metadata": {},
   "outputs": [
    {
     "data": {
      "image/png": "[encoded data removed]",
      "text/plain": [
       "<Figure size 1152x576 with 2 Axes>"
      ]
     },
     "metadata": {
      "needs_background": "light"
     },
     "output_type": "display_data"
    }
   ],
   "source": [
    "valid_result13 = get_plot_valid_result(result13)"
   ]
  },
  {
   "cell_type": "code",
   "execution_count": 41,
   "metadata": {},
   "outputs": [
    {
     "name": "stdout",
     "output_type": "stream",
     "text": [
      "Best validation result:\n"
     ]
    },
    {
     "data": {
      "text/plain": [
       "train_scores     0.8603\n",
       "valid_scores     0.7503\n",
       "ncomponents     31.0000\n",
       "max_depth       11.0000\n",
       "Name: 23, dtype: float64"
      ]
     },
     "metadata": {},
     "output_type": "display_data"
    }
   ],
   "source": [
    "best_result13 = get_best_result(result13)"
   ]
  },
  {
   "cell_type": "code",
   "execution_count": 42,
   "metadata": {},
   "outputs": [
    {
     "name": "stdout",
     "output_type": "stream",
     "text": [
      "Cross validation scores:  [0.72875 0.73675 0.73225 0.70425 0.74025]\n",
      "Average score of cross validation:  0.72845\n"
     ]
    }
   ],
   "source": [
    "best_cv_result13 = cross_validate_best_result(best_result12, x13_train, y13_train, x13_valid, y13_valid)"
   ]
  },
  {
   "cell_type": "markdown",
   "metadata": {},
   "source": [
    "The difference between train and validation scores continues to reduce, by a modest amount.\\\n",
    "Besides, validation metric also improves a little.\\\n",
    "Meanwhile, the quantity of data jumps up 10 times compared to section 1.1, and 5 times to section 1.2"
   ]
  },
  {
   "cell_type": "markdown",
   "metadata": {},
   "source": [
    "### Part 1.4: The test (with `Ntest=10000`)\n",
    "Use your best model to make a prediction:\n",
    "- Which model do you prefer, among the 3 \"best models\" you have found? Why? How confident are you with your choice?\n",
    "- Using your `Ntest=10000` samples that you saved preciously (and NEVER used), compute the test error. How surprised are you with the result? \n",
    "- If you were asked by a client, \"what is the level of accuracy you can achieve\", what would be your answer ?\n"
   ]
  },
  {
   "cell_type": "code",
   "execution_count": 134,
   "metadata": {},
   "outputs": [
    {
     "name": "stdout",
     "output_type": "stream",
     "text": [
      "(10000, 784) (10000,)\n"
     ]
    }
   ],
   "source": [
    "Xtest = LoadObject['test_images']\n",
    "ytest = LoadObject['test_labels']\n",
    "\n",
    "print(Xtest.shape, ytest.shape)"
   ]
  },
  {
   "cell_type": "code",
   "execution_count": 131,
   "metadata": {},
   "outputs": [],
   "source": [
    "def build_fit_score_model(best_result, xtrain, ytrain, xvalid, yvalid):\n",
    "    \n",
    "    pca_model = sklearn.decomposition.PCA(n_components=int(best_result[\"ncomponents\"]))\n",
    "    xtrain_pca = pca_model.fit_transform(xtrain)\n",
    "    xvalid_pca = pca_model.transform(xvalid)\n",
    "\n",
    "    clf = get_classifier(max_depth=int(best_result[\"max_depth\"]))\n",
    "    clf.fit(xtrain_pca, ytrain)\n",
    "    print(f\"Validation accuracy: {clf.score(xvalid_pca, yvalid)}\")\n",
    "    \n",
    "    return clf, pca_model"
   ]
  },
  {
   "cell_type": "code",
   "execution_count": 132,
   "metadata": {},
   "outputs": [
    {
     "name": "stdout",
     "output_type": "stream",
     "text": [
      "Validation accuracy: 0.7529\n"
     ]
    }
   ],
   "source": [
    "model14, pca14 = build_fit_score_model(best_result13, x13_train, y13_train, x13_valid, y13_valid)"
   ]
  },
  {
   "cell_type": "code",
   "execution_count": 135,
   "metadata": {},
   "outputs": [
    {
     "name": "stdout",
     "output_type": "stream",
     "text": [
      "Test accuracy: 0.7426\n"
     ]
    }
   ],
   "source": [
    "xtest14 = pca14.transform(Xtest)\n",
    "print(f\"Test accuracy: {model14.score(xtest14, ytest)}\")"
   ]
  },
  {
   "cell_type": "markdown",
   "metadata": {},
   "source": [
    "1.3 is probably the best model.\\\n",
    "The validation score is higher, and the gap between train and validation accuracy is smaller.\\\n",
    "The test accuracy is almost the same as validation accuracy.\\\n",
    "Therefore, this score should be a reasonable estimate for the generalization performance."
   ]
  },
  {
   "cell_type": "markdown",
   "metadata": {},
   "source": [
    "### Part 1.4 - Bonus question : \n",
    "- Compute also the cross validation error for the best hyper parameters choice with `N_train=200`\n",
    "- Plot the cross validation error as a function of ntrain= 200,2000,20000  \n",
    "- People often say \"let's just get more data\". How efficient does that does seem to be ? "
   ]
  },
  {
   "cell_type": "code",
   "execution_count": 47,
   "metadata": {},
   "outputs": [
    {
     "data": {
      "text/plain": [
       "Text(0, 0.5, 'CV score')"
      ]
     },
     "execution_count": 47,
     "metadata": {},
     "output_type": "execute_result"
    },
    {
     "data": {
      "image/png": "[encoded data removed]",
      "text/plain": [
       "<Figure size 432x288 with 1 Axes>"
      ]
     },
     "metadata": {
      "needs_background": "light"
     },
     "output_type": "display_data"
    }
   ],
   "source": [
    "# relative scale of data size 1000, 2000 and 10000\n",
    "xplot = (1, 2, 10)\n",
    "yplot=(best_cv_result11[\"test_score\"].mean(), best_cv_result12[\"test_score\"].mean(), best_cv_result13[\"test_score\"].mean())\n",
    "plt.plot(xplot, yplot)\n",
    "plt.xlabel(\"Relative data size\")\n",
    "plt.ylabel(\"CV score\")\n"
   ]
  },
  {
   "cell_type": "markdown",
   "metadata": {},
   "source": [
    "From what we have seen, getting more data will bring limited benefit."
   ]
  },
  {
   "cell_type": "markdown",
   "metadata": {},
   "source": [
    "## Part 2: make your own classifier !\n",
    "\n",
    "## (about 5 points over 20 total)\n",
    "\n",
    "The multi-class percpetron can be implemented this way. \n",
    "We denote $K$ the number of classes, $N$ the number of (training) examples, $D$ the dimension of the data (after feature augmentation, at least with a \"1\" as first component).\n",
    "\n",
    "The **output** of the network *(not equal to the predicted label)*, can be taken as the **softmax** among the $K$ separating hyperplanes (each hyperplane $\\vec{w}_k$ separates class $k$ from the others).\n",
    "$$ y_k^{(n)} = \\text{softmax}\\big( (\\vec{w}_{k} \\cdot \\vec{x}^{(n)})_{k=1...K} \\big) = \\frac{ \\exp(  \\vec{w}_k\\cdot\\vec{x}^{(n)}   )}{\\sum_\\ell \\exp(  \\vec{w}_\\ell\\cdot\\vec{x}^{(n)})}$$\n",
    "This output can be **interpreted as the probability** that example $x^{(n)}$ belongs to the class $k$, according the classifier's current parameters\n",
    "Indeed, one can easily check that for any $\\vec{x}$, the sum of probabilities is indeed one : $\\sum_k y_k = 1$.\n",
    "The **total output of the network** is a vector $\\vec{y}^{(n)} = \\begin{pmatrix}y_1^{(n)} \\\\ y_2^{(n)} \\\\ .. \\\\ y_K^{(n)} \\end{pmatrix}$ (for the sample number $n$).\n",
    "\n",
    "The **true labels (ground truth)** of example $\\vec{x}^{(n)}$ is then encoded as a one-hot vector, so that if the example is of the second class, it may be written: $\\vec{t}^{n} = \\begin{pmatrix} 0 \\\\ 1 \\\\ 0 \\\\ .. \\\\ 0 \\end{pmatrix}$. (where $\\vec{t}^{(n)}$ or $\\vec{t}^{n}$ is for **T**ruth and is shorter to write than $\\vec{y}^{GT,(n)}$). More generally, the components $t_{n,k}$ of vector $\\vec{t}_n$ may be written using the Kronecker's delta: $t_{n,k} = \\delta(k, k_{true}^n)$, where $k_{true}^n$ is the true class of example number $n$.\n",
    "\n",
    "From now on, **we drop the superscrip $a^{(n)}$ and instead write $a_n$ or just $a$**, when it's clear enough that the quantity $a$ relates to a single example, of generic index $n$. This helps to lighten the notations.\n",
    "\n",
    "The Loss function that we should use is called the **cross-entropy loss function**, and is:\n",
    "\n",
    "$$J = \\frac1N \\sum_n^N H(\\vec{t}_{n}, \\vec{y}_{n})$$\n",
    "\n",
    "where the cross-entropy is a non-symmetric function: $$H(\\vec{t}_{n}, \\vec{y}_{n}) = -\\sum_k^K t_{n,k} \\log (y_{n,k})$$ \n",
    "\n",
    "Make sure you undersand all of the above. Write down the Loss function for the multi-class perceptron. \n",
    "### Part 2.1\n",
    "- What are the parameters of the model ? **How many real numbers is that ?** Count them in terms of $N,K,D, etc$. \n",
    "- (3-4 points) **Derive the update steps for the gradient**. (you can get inspiration from TD4.1)\n",
    "- Some Hints:\n",
    "    - It is recommended to compute the quantity $\\nabla_{w_\\ell} y_k$ ($\\ell\\neq k$) and the quantity $\\nabla_{w_k} y_k$. Try to express these simply, by recognizing $y$ when it appears. First treat the two cases separately, then try to unite the two cases in a single mathematical form, using Kronecker's delta : $\\delta(i,j)= \\{1$ if $i=j$, else $0\\}$.\n",
    "    - When there is a sum $\\sum_\\ell f(w_\\ell)$ and you derive with respect to $w_k$, the output only depends on the term $f(w_k)$ \n",
    "    - In the sum above, $\\sum_\\ell f(w_\\ell)$ the index $\\ell$ is a \"mute\" index: you can use any letter for it. Be careful not to use a letter that already exists outside the sum ($\\ell$ is like a local variable, don't use the same name for a \"global variable\" from outside the function !)\n",
    "    - For any functions $u,v$ that admit derivatives, $\\partial_x \\frac{u(x)}{v(x)} = \\frac{u'(x)v(x)-u(x)v'(x)}{(v(x))^2}$. It extends to $\\nabla_x$ without problem.\n",
    "    - $\\nabla_x \\exp(u(x)) =  \\exp(u(x)) \\nabla_x u(x)$.\n",
    "    - $\\frac{a}{1+a} = 1- \\frac{1}{1+a}$\n",
    "    - $\\partial_x \\log(u(x)) = \\frac{u'(x)}{u(x)}$ \n",
    "    - If you are too much blocked, you can ask me (via discord, in Private Message) for the solution of $\\nabla_{w_k} y_k$ and/or the solution for $\\nabla_{w_\\ell} y_k$ ($\\ell\\neq k$).\n",
    "    - In the end, the update step for the parameters that you should find is : $$ \\vec{w}_\\ell \\mapsto \\vec{w}_\\ell - \\eta \\frac1N \\sum_n^N \\vec{x}_n (\\delta_{\\ell, k_{true}^n}- y_{\\ell,n})$$\n",
    "    - If you cannot find the equation above, you can just skip this question and use it to make your program.\n",
    "    \n",
    "    \n",
    "\n",
    "### Part 2.2\n",
    "- (3 points) **Think up of all the functions you need to write**, and **put them in a class** (you can get inspiration from the correction of TP3.2) - first write a class skeleton, and **only then, write the methods** inside\n",
    "- Hints:\n",
    "    - there may be numerical errors (NaNs) because $\\exp(..)$ is too large. You can ease this by noticing the following: for any positive constant $C$, we have $$\\frac{ \\exp( a_k  )}{\\sum_\\ell \\exp (a_\\ell) }  = \\frac{C \\exp( a_k  )}{C \\sum_\\ell \\exp (a_\\ell) }= \\frac{\\exp( a_k +\\log C )}{\\sum_\\ell \\exp (a_\\ell +\\log C) }$$\n",
    "    - with this trick, when your arguments in the softmax are too large, you can simply subtract a big constant $\\log C$ from its argument, and this will reduce the chances of numerical error, without changing the result. It's a good idea to change the $w $'s with this kind of trick.\n",
    "    - it's a good idea to define the target labels (ground truth) data in one-hot vectors (as said above), compute them once and for all, and then you never have to compute them again. In practice, you may notice that for an example with label $k_{true}$, then the genreic component number of $k$ of the vector $\\vec{t}$ reads: $t_{k} = \\delta_{k, k_{true}}$\n",
    "    - the initial $w$ should be random (not all zeros), preferably, but not too big. A good idea is to have their dispersion be of order $1/D$ at most.\n",
    "    \n",
    "For this question, the main goal is to make a theoretically-working, rather clean code, using numpy array-operations (`np.dot`) and not loops, as much as possible. If you manage to do that, you will most likely have a working code (and fast code!)\n",
    "- (1 point) Test your algorithm on Fashion-MNIST: make a train / validation / test split , fit the model, compute the cross-val error, and the test error. Don't waste time on optimizing hyper-parameters (just take an $\\eta$ small enough that you kind of converge. The goal is really to prove that your algorithm does not always crash :)"
   ]
  },
  {
   "cell_type": "code",
   "execution_count": 1,
   "metadata": {},
   "outputs": [
    {
     "name": "stdout",
     "output_type": "stream",
     "text": [
      "2.6881171418161356e+43\n"
     ]
    }
   ],
   "source": [
    "## remark:\n",
    "import numpy as np\n",
    "print(np.exp(100))"
   ]
  },
  {
   "cell_type": "code",
   "execution_count": 9,
   "metadata": {},
   "outputs": [
    {
     "name": "stdout",
     "output_type": "stream",
     "text": [
      "nan\n"
     ]
    },
    {
     "name": "stderr",
     "output_type": "stream",
     "text": [
      "/home/flandes/anaconda3/lib/python3.7/site-packages/ipykernel_launcher.py:1: RuntimeWarning: overflow encountered in exp\n",
      "  \"\"\"Entry point for launching an IPython kernel.\n",
      "/home/flandes/anaconda3/lib/python3.7/site-packages/ipykernel_launcher.py:1: RuntimeWarning: invalid value encountered in double_scalars\n",
      "  \"\"\"Entry point for launching an IPython kernel.\n"
     ]
    }
   ],
   "source": [
    "print(np.exp(800)- np.exp(800))"
   ]
  },
  {
   "cell_type": "code",
   "execution_count": null,
   "metadata": {},
   "outputs": [],
   "source": []
  }
 ],
 "metadata": {
  "kernelspec": {
   "display_name": "Python 3",
   "language": "python",
   "name": "python3"
  },
  "language_info": {
   "codemirror_mode": {
    "name": "ipython",
    "version": 3
   },
   "file_extension": ".py",
   "mimetype": "text/x-python",
   "name": "python",
   "nbconvert_exporter": "python",
   "pygments_lexer": "ipython3",
   "version": "3.8.5"
  }
 },
 "nbformat": 4,
 "nbformat_minor": 4
}
